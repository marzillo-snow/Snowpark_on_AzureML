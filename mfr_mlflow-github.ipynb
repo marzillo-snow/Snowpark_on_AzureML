{
  "cells": [
    {
      "cell_type": "markdown",
      "source": [
        "# Connect to Snowflake"
      ],
      "metadata": {
        "nteract": {
          "transient": {
            "deleting": false
          }
        }
      }
    },
    {
      "cell_type": "code",
      "source": [
        "# access data from snowflake\n",
        "import pandas as pd\n",
        "from snowflake.snowpark.session import Session\n",
        "from snowflake.snowpark.functions import *\n",
        "from snowflake.snowpark.types import *\n",
        "\n",
        "connection_parameters = {\n",
        "    \"account\": \"\",\n",
        "    \"user\": \"\", \n",
        "    \"host\": \"\",\n",
        "    \"password\": \"\",\n",
        "    \"role\": \"ACCOUNTADMIN\",\n",
        "    \"warehouse\": \"SMALL_WH\",\n",
        "    \"database\":\"MFR\",\n",
        "    \"schema\":\"PUBLIC\"\n",
        "    }\n",
        "session = Session.builder.configs(connection_parameters).create()\n",
        "\n",
        "maintenance_df = session.table('MFR.PUBLIC.maintenance')\n",
        "humidity_df = session.table('MFR.PUBLIC.Humidity')\n",
        "hum_udi_df = session.table('MFR.PUBLIC.HUMIDITY_UDI')"
      ],
      "outputs": [],
      "execution_count": 31,
      "metadata": {
        "jupyter": {
          "source_hidden": false,
          "outputs_hidden": false
        },
        "nteract": {
          "transient": {
            "deleting": false
          }
        },
        "gather": {
          "logged": 1678974478975
        }
      }
    },
    {
      "cell_type": "markdown",
      "source": [
        "# Look at Each of the dataframes"
      ],
      "metadata": {
        "nteract": {
          "transient": {
            "deleting": false
          }
        }
      }
    },
    {
      "cell_type": "code",
      "source": [
        "maintenance_df.to_pandas().head()"
      ],
      "outputs": [
        {
          "output_type": "execute_result",
          "execution_count": 32,
          "data": {
            "text/plain": "   UDI PRODUCT_ID TYPE  AIR_TEMPERATURE_K  PROCESS_TEMPERATURE  \\\n0    1     M14860    M                298                  309   \n1    2     L47181    L                298                  309   \n2    3     L47182    L                298                  309   \n3    4     L47183    L                298                  309   \n4    5     L47184    L                298                  309   \n\n   ROTATIONAL_SPEED_RPM  TORQUE_NM  TOOL_WEAR_MIN  MACHINE_FAILURE  TWF  HDF  \\\n0                  1551         43              0                0    0    0   \n1                  1408         46              3                0    0    0   \n2                  1498         49              5                0    0    0   \n3                  1433         40              7                0    0    0   \n4                  1408         40              9                0    0    0   \n\n   PWF  OSF  RNF  \n0    0    0    0  \n1    0    0    0  \n2    0    0    0  \n3    0    0    0  \n4    0    0    0  ",
            "text/html": "<div>\n<style scoped>\n    .dataframe tbody tr th:only-of-type {\n        vertical-align: middle;\n    }\n\n    .dataframe tbody tr th {\n        vertical-align: top;\n    }\n\n    .dataframe thead th {\n        text-align: right;\n    }\n</style>\n<table border=\"1\" class=\"dataframe\">\n  <thead>\n    <tr style=\"text-align: right;\">\n      <th></th>\n      <th>UDI</th>\n      <th>PRODUCT_ID</th>\n      <th>TYPE</th>\n      <th>AIR_TEMPERATURE_K</th>\n      <th>PROCESS_TEMPERATURE</th>\n      <th>ROTATIONAL_SPEED_RPM</th>\n      <th>TORQUE_NM</th>\n      <th>TOOL_WEAR_MIN</th>\n      <th>MACHINE_FAILURE</th>\n      <th>TWF</th>\n      <th>HDF</th>\n      <th>PWF</th>\n      <th>OSF</th>\n      <th>RNF</th>\n    </tr>\n  </thead>\n  <tbody>\n    <tr>\n      <th>0</th>\n      <td>1</td>\n      <td>M14860</td>\n      <td>M</td>\n      <td>298</td>\n      <td>309</td>\n      <td>1551</td>\n      <td>43</td>\n      <td>0</td>\n      <td>0</td>\n      <td>0</td>\n      <td>0</td>\n      <td>0</td>\n      <td>0</td>\n      <td>0</td>\n    </tr>\n    <tr>\n      <th>1</th>\n      <td>2</td>\n      <td>L47181</td>\n      <td>L</td>\n      <td>298</td>\n      <td>309</td>\n      <td>1408</td>\n      <td>46</td>\n      <td>3</td>\n      <td>0</td>\n      <td>0</td>\n      <td>0</td>\n      <td>0</td>\n      <td>0</td>\n      <td>0</td>\n    </tr>\n    <tr>\n      <th>2</th>\n      <td>3</td>\n      <td>L47182</td>\n      <td>L</td>\n      <td>298</td>\n      <td>309</td>\n      <td>1498</td>\n      <td>49</td>\n      <td>5</td>\n      <td>0</td>\n      <td>0</td>\n      <td>0</td>\n      <td>0</td>\n      <td>0</td>\n      <td>0</td>\n    </tr>\n    <tr>\n      <th>3</th>\n      <td>4</td>\n      <td>L47183</td>\n      <td>L</td>\n      <td>298</td>\n      <td>309</td>\n      <td>1433</td>\n      <td>40</td>\n      <td>7</td>\n      <td>0</td>\n      <td>0</td>\n      <td>0</td>\n      <td>0</td>\n      <td>0</td>\n      <td>0</td>\n    </tr>\n    <tr>\n      <th>4</th>\n      <td>5</td>\n      <td>L47184</td>\n      <td>L</td>\n      <td>298</td>\n      <td>309</td>\n      <td>1408</td>\n      <td>40</td>\n      <td>9</td>\n      <td>0</td>\n      <td>0</td>\n      <td>0</td>\n      <td>0</td>\n      <td>0</td>\n      <td>0</td>\n    </tr>\n  </tbody>\n</table>\n</div>"
          },
          "metadata": {}
        }
      ],
      "execution_count": 32,
      "metadata": {
        "jupyter": {
          "source_hidden": false,
          "outputs_hidden": false
        },
        "nteract": {
          "transient": {
            "deleting": false
          }
        },
        "gather": {
          "logged": 1678974481935
        }
      }
    },
    {
      "cell_type": "code",
      "source": [
        "humidity_df.to_pandas().head()"
      ],
      "outputs": [
        {
          "output_type": "execute_result",
          "execution_count": 3,
          "data": {
            "text/plain": "     CITY_NAME  HUMIDITY_RELATIVE_AVG\n0       Riyadh                     71\n1    Singapore                     78\n2  Los Angeles                     63\n3       Sydney                     78\n4        Kabul                     57",
            "text/html": "<div>\n<style scoped>\n    .dataframe tbody tr th:only-of-type {\n        vertical-align: middle;\n    }\n\n    .dataframe tbody tr th {\n        vertical-align: top;\n    }\n\n    .dataframe thead th {\n        text-align: right;\n    }\n</style>\n<table border=\"1\" class=\"dataframe\">\n  <thead>\n    <tr style=\"text-align: right;\">\n      <th></th>\n      <th>CITY_NAME</th>\n      <th>HUMIDITY_RELATIVE_AVG</th>\n    </tr>\n  </thead>\n  <tbody>\n    <tr>\n      <th>0</th>\n      <td>Riyadh</td>\n      <td>71</td>\n    </tr>\n    <tr>\n      <th>1</th>\n      <td>Singapore</td>\n      <td>78</td>\n    </tr>\n    <tr>\n      <th>2</th>\n      <td>Los Angeles</td>\n      <td>63</td>\n    </tr>\n    <tr>\n      <th>3</th>\n      <td>Sydney</td>\n      <td>78</td>\n    </tr>\n    <tr>\n      <th>4</th>\n      <td>Kabul</td>\n      <td>57</td>\n    </tr>\n  </tbody>\n</table>\n</div>"
          },
          "metadata": {}
        }
      ],
      "execution_count": 3,
      "metadata": {
        "jupyter": {
          "source_hidden": false,
          "outputs_hidden": false
        },
        "nteract": {
          "transient": {
            "deleting": false
          }
        },
        "gather": {
          "logged": 1678974231032
        }
      }
    },
    {
      "cell_type": "code",
      "source": [
        "hum_udi_df.to_pandas().head()"
      ],
      "outputs": [
        {
          "output_type": "execute_result",
          "execution_count": 4,
          "data": {
            "text/plain": "   UDI         CITY\n0    1     Santiago\n1    2        Dakar\n2    3        Dhaka\n3    4  Los Angeles\n4    5      Baghdad",
            "text/html": "<div>\n<style scoped>\n    .dataframe tbody tr th:only-of-type {\n        vertical-align: middle;\n    }\n\n    .dataframe tbody tr th {\n        vertical-align: top;\n    }\n\n    .dataframe thead th {\n        text-align: right;\n    }\n</style>\n<table border=\"1\" class=\"dataframe\">\n  <thead>\n    <tr style=\"text-align: right;\">\n      <th></th>\n      <th>UDI</th>\n      <th>CITY</th>\n    </tr>\n  </thead>\n  <tbody>\n    <tr>\n      <th>0</th>\n      <td>1</td>\n      <td>Santiago</td>\n    </tr>\n    <tr>\n      <th>1</th>\n      <td>2</td>\n      <td>Dakar</td>\n    </tr>\n    <tr>\n      <th>2</th>\n      <td>3</td>\n      <td>Dhaka</td>\n    </tr>\n    <tr>\n      <th>3</th>\n      <td>4</td>\n      <td>Los Angeles</td>\n    </tr>\n    <tr>\n      <th>4</th>\n      <td>5</td>\n      <td>Baghdad</td>\n    </tr>\n  </tbody>\n</table>\n</div>"
          },
          "metadata": {}
        }
      ],
      "execution_count": 4,
      "metadata": {
        "jupyter": {
          "source_hidden": false,
          "outputs_hidden": false
        },
        "nteract": {
          "transient": {
            "deleting": false
          }
        },
        "gather": {
          "logged": 1678974232718
        }
      }
    },
    {
      "cell_type": "code",
      "source": [
        "# join together the dataframes and prepare training dataset\n",
        "maintenance_city = maintenance_df.join(hum_udi_df, [\"UDI\"])\n",
        "maintenance_hum = maintenance_city.join(humidity_df, (maintenance_city.col(\"CITY\") == humidity_df.col(\"CITY_NAME\"))).select(col(\"TYPE\"), \n",
        "col(\"AIR_TEMPERATURE_K\"), col(\"PROCESS_TEMPERATURE\"), col(\"ROTATIONAL_SPEED_RPM\"), col(\"TORQUE_NM\"), col(\"TOOL_WEAR_MIN\"), col(\"HUMIDITY_RELATIVE_AVG\"), col(\"MACHINE_FAILURE\"))"
      ],
      "outputs": [],
      "execution_count": 5,
      "metadata": {
        "jupyter": {
          "source_hidden": false,
          "outputs_hidden": false
        },
        "nteract": {
          "transient": {
            "deleting": false
          }
        },
        "gather": {
          "logged": 1678974234698
        }
      }
    },
    {
      "cell_type": "code",
      "source": [
        "# write training set to snowflake and materialize the data frame into a pandas data frame\n",
        "maintenance_hum.write.mode(\"overwrite\").save_as_table(\"MFR.PUBLIC.MAINTENANCE_HUM\")\n",
        "maintenance_hum_df = session.table('MFR.PUBLIC.MAINTENANCE_HUM').to_pandas()"
      ],
      "outputs": [],
      "execution_count": 6,
      "metadata": {
        "jupyter": {
          "source_hidden": false,
          "outputs_hidden": false
        },
        "nteract": {
          "transient": {
            "deleting": false
          }
        },
        "gather": {
          "logged": 1678974237694
        }
      }
    },
    {
      "cell_type": "code",
      "source": [
        "# convert categorical to dummies\n",
        "from pandas import get_dummies\n",
        "# maintenance_hum_df = pd.concat([get_dummies(maintenance_hum_df[[\"TYPE\"]]),maintenance_hum_df.drop(columns=[\"TYPE\"])], axis = 1)\n",
        "maintenance_hum_df = maintenance_hum_df.drop(columns=[\"TYPE\"])"
      ],
      "outputs": [],
      "execution_count": 7,
      "metadata": {
        "jupyter": {
          "source_hidden": false,
          "outputs_hidden": false
        },
        "nteract": {
          "transient": {
            "deleting": false
          }
        },
        "gather": {
          "logged": 1678974237804
        }
      }
    },
    {
      "cell_type": "markdown",
      "source": [
        "# Use MLFlow to track jobs and models"
      ],
      "metadata": {
        "nteract": {
          "transient": {
            "deleting": false
          }
        }
      }
    },
    {
      "cell_type": "code",
      "source": [
        "import mlflow\n",
        "mlflow.set_experiment(experiment_name=\"predictive-maintenance2\")"
      ],
      "outputs": [],
      "execution_count": null,
      "metadata": {
        "jupyter": {
          "source_hidden": false,
          "outputs_hidden": false
        },
        "nteract": {
          "transient": {
            "deleting": false
          }
        },
        "gather": {
          "logged": 1678974243244
        }
      }
    },
    {
      "cell_type": "markdown",
      "source": [
        "# Split data and train model"
      ],
      "metadata": {
        "nteract": {
          "transient": {
            "deleting": false
          }
        }
      }
    },
    {
      "cell_type": "code",
      "source": [
        "from sklearn.model_selection import train_test_split\n",
        "X_train, X_test, y_train, y_test = train_test_split(\n",
        "    maintenance_hum_df.drop(\"MACHINE_FAILURE\", axis=1), maintenance_hum_df[\"MACHINE_FAILURE\"], test_size=0.3\n",
        ")"
      ],
      "outputs": [],
      "execution_count": 9,
      "metadata": {
        "jupyter": {
          "source_hidden": false,
          "outputs_hidden": false
        },
        "nteract": {
          "transient": {
            "deleting": false
          }
        },
        "gather": {
          "logged": 1678974249932
        }
      }
    },
    {
      "cell_type": "code",
      "source": [
        "from sklearn.ensemble import RandomForestClassifier\n",
        "mlflow.autolog()\n",
        "model = RandomForestClassifier()\n"
      ],
      "outputs": [],
      "execution_count": null,
      "metadata": {
        "jupyter": {
          "source_hidden": false,
          "outputs_hidden": false
        },
        "nteract": {
          "transient": {
            "deleting": false
          }
        },
        "gather": {
          "logged": 1678974251054
        }
      }
    },
    {
      "cell_type": "code",
      "source": [
        "run = mlflow.start_run()"
      ],
      "outputs": [],
      "execution_count": 11,
      "metadata": {
        "jupyter": {
          "source_hidden": false,
          "outputs_hidden": false
        },
        "nteract": {
          "transient": {
            "deleting": false
          }
        },
        "gather": {
          "logged": 1678974252029
        }
      }
    },
    {
      "cell_type": "code",
      "source": [
        "model.fit(X_train, y_train)"
      ],
      "outputs": [],
      "execution_count": null,
      "metadata": {
        "jupyter": {
          "source_hidden": false,
          "outputs_hidden": false
        },
        "nteract": {
          "transient": {
            "deleting": false
          }
        },
        "gather": {
          "logged": 1678974264281
        }
      }
    },
    {
      "cell_type": "code",
      "source": [
        "y_pred = model.predict(X_test)"
      ],
      "outputs": [],
      "execution_count": 13,
      "metadata": {
        "jupyter": {
          "source_hidden": false,
          "outputs_hidden": false
        },
        "nteract": {
          "transient": {
            "deleting": false
          }
        },
        "gather": {
          "logged": 1678974264707
        }
      }
    },
    {
      "cell_type": "code",
      "source": [
        "from sklearn.metrics import accuracy_score, recall_score\n",
        "\n",
        "accuracy = accuracy_score(y_test, y_pred)\n",
        "recall = recall_score(y_test, y_pred)"
      ],
      "outputs": [],
      "execution_count": null,
      "metadata": {
        "jupyter": {
          "source_hidden": false,
          "outputs_hidden": false
        },
        "nteract": {
          "transient": {
            "deleting": false
          }
        },
        "gather": {
          "logged": 1678974266096
        }
      }
    },
    {
      "cell_type": "code",
      "source": [
        "print(\"Accuracy: %.2f%%\" % (accuracy * 100.0))\n",
        "print(\"Recall: %.2f%%\" % (recall * 100.0))"
      ],
      "outputs": [],
      "execution_count": null,
      "metadata": {
        "jupyter": {
          "source_hidden": false,
          "outputs_hidden": false
        },
        "nteract": {
          "transient": {
            "deleting": false
          }
        },
        "gather": {
          "logged": 1678974269879
        }
      }
    },
    {
      "cell_type": "code",
      "source": [
        "mlflow.end_run()"
      ],
      "outputs": [],
      "execution_count": 16,
      "metadata": {
        "jupyter": {
          "source_hidden": false,
          "outputs_hidden": false
        },
        "nteract": {
          "transient": {
            "deleting": false
          }
        },
        "gather": {
          "logged": 1678974271712
        }
      }
    },
    {
      "cell_type": "code",
      "source": [
        "run = mlflow.get_run(run.info.run_id)"
      ],
      "outputs": [],
      "execution_count": 17,
      "metadata": {
        "jupyter": {
          "source_hidden": false,
          "outputs_hidden": false
        },
        "nteract": {
          "transient": {
            "deleting": false
          }
        },
        "gather": {
          "logged": 1678974273691
        }
      }
    },
    {
      "cell_type": "markdown",
      "source": [
        "# Look at model metrics"
      ],
      "metadata": {
        "nteract": {
          "transient": {
            "deleting": false
          }
        }
      }
    },
    {
      "cell_type": "code",
      "source": [
        "pd.DataFrame(data=[run.data.params], index=[\"Value\"]).T"
      ],
      "outputs": [],
      "execution_count": null,
      "metadata": {
        "jupyter": {
          "source_hidden": false,
          "outputs_hidden": false
        },
        "nteract": {
          "transient": {
            "deleting": false
          }
        },
        "gather": {
          "logged": 1678974275769
        }
      }
    },
    {
      "cell_type": "code",
      "source": [
        "pd.DataFrame(data=[run.data.metrics], index=[\"Value\"]).T"
      ],
      "outputs": [],
      "execution_count": null,
      "metadata": {
        "jupyter": {
          "source_hidden": false,
          "outputs_hidden": false
        },
        "nteract": {
          "transient": {
            "deleting": false
          }
        },
        "gather": {
          "logged": 1678974286786
        }
      }
    },
    {
      "cell_type": "code",
      "source": [
        "# evaluate model on test\n",
        "from sklearn import metrics\n",
        "from sklearn.metrics import roc_auc_score, roc_curve, RocCurveDisplay\n",
        "import matplotlib.pyplot as plt\n",
        "y_pred = model.predict_proba(X_test)[:,1]\n",
        "fpr, tpr, thresholds = roc_curve(y_test, y_pred)\n",
        "roc_auc = metrics.auc(fpr, tpr)\n",
        "display = metrics.RocCurveDisplay(fpr=fpr, tpr=tpr, roc_auc=roc_auc,\n",
        "                                   estimator_name='example estimator')\n",
        "display.plot()\n",
        "plt.show()"
      ],
      "outputs": [],
      "execution_count": null,
      "metadata": {
        "jupyter": {
          "source_hidden": false,
          "outputs_hidden": false
        },
        "nteract": {
          "transient": {
            "deleting": false
          }
        },
        "gather": {
          "logged": 1678974305953
        }
      }
    },
    {
      "cell_type": "code",
      "source": [
        "# auc score\n",
        "roc_auc_score(y_test, y_pred)"
      ],
      "outputs": [],
      "execution_count": null,
      "metadata": {
        "jupyter": {
          "source_hidden": false,
          "outputs_hidden": false
        },
        "nteract": {
          "transient": {
            "deleting": false
          }
        },
        "gather": {
          "logged": 1678974309785
        }
      }
    },
    {
      "cell_type": "code",
      "source": [
        "from sklearn.inspection import permutation_importance\n",
        "feature_names = ['AIR_TEMPERATURE_K',\n",
        "       'PROCESS_TEMPERATURE', 'ROTATIONAL_SPEED_RPM', 'TORQUE_NM',\n",
        "       'TOOL_WEAR_MIN', 'HUMIDITY_RELATIVE_AVG']\n",
        "result = permutation_importance(\n",
        "    model, X_test, y_test, n_repeats=10, random_state=42, n_jobs=2\n",
        ")\n",
        "\n",
        "forest_importances = pd.Series(result.importances_mean, index=feature_names)\n",
        "fig, ax = plt.subplots()\n",
        "forest_importances.plot.bar(yerr=result.importances_std, ax=ax)\n",
        "ax.set_title(\"Feature importances using permutation on full model\")\n",
        "ax.set_ylabel(\"Mean accuracy decrease\")\n",
        "fig.tight_layout()\n",
        "plt.show()"
      ],
      "outputs": [],
      "execution_count": null,
      "metadata": {
        "jupyter": {
          "source_hidden": false,
          "outputs_hidden": false
        },
        "nteract": {
          "transient": {
            "deleting": false
          }
        },
        "gather": {
          "logged": 1678974314994
        }
      }
    },
    {
      "cell_type": "markdown",
      "source": [
        "# Register training dataset with mlflow runid"
      ],
      "metadata": {
        "nteract": {
          "transient": {
            "deleting": false
          }
        }
      }
    },
    {
      "cell_type": "code",
      "source": [
        "# register dataset\n",
        "from azureml.core import Workspace, Dataset\n",
        "\n",
        "# Connect to the Workspace\n",
        "ws = Workspace.from_config()\n",
        "\n",
        "# The default datastore is a blob storage container where datasets are stored\n",
        "datastore = ws.get_default_datastore()\n",
        "\n",
        "# Register the dataset\n",
        "ds = Dataset.Tabular.register_pandas_dataframe(\n",
        "        dataframe=maintenance_hum_df, \n",
        "        name=run.info.run_id+'maintenance_hum_df', \n",
        "        description='maintenance df for model training',\n",
        "        target=datastore\n",
        "    )"
      ],
      "outputs": [],
      "execution_count": null,
      "metadata": {
        "jupyter": {
          "source_hidden": false,
          "outputs_hidden": false
        },
        "nteract": {
          "transient": {
            "deleting": false
          }
        },
        "gather": {
          "logged": 1678974329971
        }
      }
    },
    {
      "cell_type": "code",
      "source": [
        "client = mlflow.tracking.MlflowClient()\n",
        "client.list_artifacts(run_id=run.info.run_id)"
      ],
      "outputs": [],
      "execution_count": null,
      "metadata": {
        "jupyter": {
          "source_hidden": false,
          "outputs_hidden": false
        },
        "nteract": {
          "transient": {
            "deleting": false
          }
        },
        "gather": {
          "logged": 1678974335077
        }
      }
    },
    {
      "cell_type": "markdown",
      "source": [
        "# Register Model"
      ],
      "metadata": {
        "nteract": {
          "transient": {
            "deleting": false
          }
        }
      }
    },
    {
      "cell_type": "code",
      "source": [
        "import os\n",
        "mlflow.sklearn.save_model(model, \"./maint\")\n",
        "model_local_path = os.path.abspath(\"./maint\")\n",
        "mlflow.register_model(f\"file://{model_local_path}\", \"maint-model\")"
      ],
      "outputs": [],
      "execution_count": null,
      "metadata": {
        "jupyter": {
          "source_hidden": false,
          "outputs_hidden": false
        },
        "nteract": {
          "transient": {
            "deleting": false
          }
        },
        "gather": {
          "logged": 1678974391025
        }
      }
    },
    {
      "cell_type": "markdown",
      "source": [
        "# Deploy Model to snowflake"
      ],
      "metadata": {
        "nteract": {
          "transient": {
            "deleting": false
          }
        }
      }
    },
    {
      "cell_type": "code",
      "source": [
        "# create stage\n",
        "session.sql(\"CREATE OR REPLACE STAGE MFR.PUBLIC.maint_stage\").collect()"
      ],
      "outputs": [],
      "execution_count": null,
      "metadata": {
        "jupyter": {
          "source_hidden": false,
          "outputs_hidden": false
        },
        "nteract": {
          "transient": {
            "deleting": false
          }
        },
        "gather": {
          "logged": 1678974399947
        }
      }
    },
    {
      "cell_type": "code",
      "source": [
        "# push model to stage in snowflake\n",
        "# Model.get_model_path(model_name = 'mfr_model', version = 1, _workspace= ws)\n",
        "session.file.put('maint/model.pkl', \"MFR.PUBLIC.maint_stage\", auto_compress=False, overwrite=True)"
      ],
      "outputs": [],
      "execution_count": null,
      "metadata": {
        "jupyter": {
          "source_hidden": false,
          "outputs_hidden": false
        },
        "nteract": {
          "transient": {
            "deleting": false
          }
        },
        "gather": {
          "logged": 1678974401089
        }
      }
    },
    {
      "cell_type": "code",
      "source": [
        "sql_cmd = '''\n",
        "create or replace function predict_failure(a int, b int,c int,d int, \n",
        "                                     e int, f int)\n",
        "returns float\n",
        "language python\n",
        "runtime_version = 3.8\n",
        "packages = ('scikit-learn', 'pandas')\n",
        "handler = 'udf'\n",
        "imports = ('@maint_stage/model.pkl')\n",
        "as $$\n",
        "import pandas\n",
        "import sklearn\n",
        "import sys\n",
        "import pickle\n",
        "from _snowflake import vectorized\n",
        "\n",
        "IMPORT_DIRECTORY_NAME = \"snowflake_import_directory\"\n",
        "import_dir = sys._xoptions[IMPORT_DIRECTORY_NAME]\n",
        "pipe_file = import_dir + 'model.pkl'\n",
        "with open(pipe_file,'rb') as f:\n",
        "         pred_model = pickle.load(f)\n",
        "         \n",
        "@vectorized(input=pandas.DataFrame)\n",
        "def udf(df):\n",
        "    return pred_model.predict_proba(df)[:,1]\n",
        "$$;\n",
        "'''"
      ],
      "outputs": [],
      "execution_count": 29,
      "metadata": {
        "jupyter": {
          "source_hidden": false,
          "outputs_hidden": false
        },
        "nteract": {
          "transient": {
            "deleting": false
          }
        },
        "gather": {
          "logged": 1678974402003
        }
      }
    },
    {
      "cell_type": "code",
      "source": [
        "session.sql(sql_cmd).collect()"
      ],
      "outputs": [
        {
          "output_type": "execute_result",
          "execution_count": 33,
          "data": {
            "text/plain": "[Row(status='Function PREDICT_FAILURE successfully created.')]"
          },
          "metadata": {}
        }
      ],
      "execution_count": 33,
      "metadata": {
        "jupyter": {
          "source_hidden": false,
          "outputs_hidden": false
        },
        "nteract": {
          "transient": {
            "deleting": false
          }
        },
        "gather": {
          "logged": 1678974530204
        }
      }
    },
    {
      "cell_type": "code",
      "source": [],
      "outputs": [],
      "execution_count": null,
      "metadata": {
        "jupyter": {
          "source_hidden": false,
          "outputs_hidden": false
        },
        "nteract": {
          "transient": {
            "deleting": false
          }
        }
      }
    }
  ],
  "metadata": {
    "kernelspec": {
      "name": "python38-azureml",
      "language": "python",
      "display_name": "Python 3.8 - AzureML"
    },
    "language_info": {
      "name": "python",
      "version": "3.8.5",
      "mimetype": "text/x-python",
      "codemirror_mode": {
        "name": "ipython",
        "version": 3
      },
      "pygments_lexer": "ipython3",
      "nbconvert_exporter": "python",
      "file_extension": ".py"
    },
    "kernel_info": {
      "name": "python38-azureml"
    },
    "microsoft": {
      "host": {
        "AzureML": {
          "notebookHasBeenCompleted": true
        }
      },
      "ms_spell_check": {
        "ms_spell_check_language": "en"
      }
    },
    "nteract": {
      "version": "nteract-front-end@1.0.0"
    }
  },
  "nbformat": 4,
  "nbformat_minor": 2
}