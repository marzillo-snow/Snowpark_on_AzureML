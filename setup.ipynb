{
  "cells": [
    {
      "cell_type": "markdown",
      "source": [
        "CONNECT"
      ],
      "metadata": {
        "nteract": {
          "transient": {
            "deleting": false
          }
        }
      }
    },
    {
      "cell_type": "code",
      "source": [
        "connection_parameters = {\n",
        "    \"account\": \"\",\n",
        "    \"user\": \"\", \n",
        "    \"host\": \"\", # e.g. \"sn00111.snowflakecomputing.com\",\n",
        "    \"password\": \"\",\n",
        "    \"role\": \"ACCOUNTADMIN\"\n",
         "    \"warehouse\": \"SMALL_WH\"\n",
         "    \"database\": \"MFR\"\n",
         "    \"schema\": \"PUBLIC\"\n",
        "    }\n",
        "session = Session.builder.configs(connection_parameters).create()"
      ],
      "outputs": [],
      "execution_count": null,
      "metadata": {
        "jupyter": {
          "source_hidden": false,
          "outputs_hidden": false
        },
        "nteract": {
          "transient": {
            "deleting": false
          }
        }
      }
    },
    {
      "cell_type": "code",
      "source": [
        "# Loading from local CSV-files\n",
        "city_udi_df = pd.read_csv('city_udi.csv')\n",
        "humidity_df = pd.read_csv('humidity.csv')\n",
        "maintenance_df = pd.read_csv('maintenance.csv')"
      ],
      "outputs": [],
      "execution_count": null,
      "metadata": {
        "jupyter": {
          "source_hidden": false,
          "outputs_hidden": false
        },
        "nteract": {
          "transient": {
            "deleting": false
          }
        }
      }
    },
    {
      "cell_type": "markdown",
      "source": [
        "LOAD"
      ],
      "metadata": {
        "nteract": {
          "transient": {
            "deleting": false
          }
        }
      }
    },
    {
      "cell_type": "code",
      "source": [
        "# Upload to Snowflake\n",
        "session.write_pandas(city_udi_df, table_name='CITY_UDF', auto_create_table=True, overwrite=True)\n",
        "session.write_pandas(humidity_df, table_name='HUMIDITY', auto_create_table=True, overwrite=True)\n",
        "session.write_pandas(maintenance_df, table_name='MAINTENANCE', auto_create_table=True, overwrite=True)"
      ],
      "outputs": [],
      "execution_count": null,
      "metadata": {
        "jupyter": {
          "source_hidden": false,
          "outputs_hidden": false
        },
        "nteract": {
          "transient": {
            "deleting": false
          }
        }
      }
    }
  ],
  "metadata": {
    "kernelspec": {
      "name": "python310-sdkv2",
      "language": "python",
      "display_name": "Python 3.10 - SDK V2"
    },
    "language_info": {
      "name": "python",
      "version": "3.10.4",
      "mimetype": "text/x-python",
      "codemirror_mode": {
        "name": "ipython",
        "version": 3
      },
      "pygments_lexer": "ipython3",
      "nbconvert_exporter": "python",
      "file_extension": ".py"
    },
    "microsoft": {
      "ms_spell_check": {
        "ms_spell_check_language": "en"
      }
    },
    "kernel_info": {
      "name": "python310-sdkv2"
    },
    "nteract": {
      "version": "nteract-front-end@1.0.0"
    }
  },
  "nbformat": 4,
  "nbformat_minor": 2
}
